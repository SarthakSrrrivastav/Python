{
 "cells": [
  {
   "cell_type": "code",
   "execution_count": 1,
   "metadata": {},
   "outputs": [],
   "source": [
    "# The Python OS module lets us work with the files and directories\n",
    "\n",
    "# Python OS module provides the facility to establish the interaction between the user and the operating system\n",
    "\n",
    "\n",
    "import os"
   ]
  },
  {
   "cell_type": "code",
   "execution_count": null,
   "metadata": {},
   "outputs": [],
   "source": [
    "print(os.name)"
   ]
  },
  {
   "cell_type": "code",
   "execution_count": 3,
   "metadata": {},
   "outputs": [],
   "source": [
    "os.mkdir(\"d:\\\\newdir\")   # function is used to create new directory"
   ]
  },
  {
   "cell_type": "code",
   "execution_count": null,
   "metadata": {},
   "outputs": [],
   "source": [
    "print(os.getcwd())  #   It returns the current working directory(CWD) of the file."
   ]
  },
  {
   "cell_type": "code",
   "execution_count": null,
   "metadata": {},
   "outputs": [],
   "source": [
    "#  defines the OS level errors. It raises OSError in case of invalid or inaccessible file names and path etc.\n",
    "\n",
    "\n",
    "try:  \n",
    "    # If file does not exist,  \n",
    "    # then it throw an IOError   \n",
    "    filename = 'Python.txt'  \n",
    "    f = open(filename, 'rU')  \n",
    "    text = f.read()  \n",
    "    f.close()  \n",
    "  \n",
    "# The Control jumps directly to here if  \n",
    "# any lines throws IOError.  \n",
    "except IOError:  \n",
    "  \n",
    "    # print(os.error) will <class 'OSError'>  \n",
    "    print('Problem reading: ' + filename)"
   ]
  },
  {
   "cell_type": "code",
   "execution_count": null,
   "metadata": {},
   "outputs": [],
   "source": [
    "fr = \"Python1.txt\"    \n",
    "file = open(fr, 'r')     \n",
    "text = file.read()     \n",
    "print(text)       \n",
    "os.close(file)     #os.close()   function closes the associated file with descriptor fr."
   ]
  },
  {
   "cell_type": "code",
   "execution_count": null,
   "metadata": {},
   "outputs": [],
   "source": [
    "fd = \"python.txt\"    \n",
    "os.rename(fd,'Python1.txt')     \n",
    "os.rename(fd,'Python1.txt')    # os.rename() directory can be renamed by using the function os.rename(). A user can rename the file if it has privilege to change the file."
   ]
  },
  {
   "cell_type": "code",
   "execution_count": null,
   "metadata": {},
   "outputs": [],
   "source": []
  }
 ],
 "metadata": {
  "kernelspec": {
   "display_name": "Python 3.10.5 64-bit",
   "language": "python",
   "name": "python3"
  },
  "language_info": {
   "codemirror_mode": {
    "name": "ipython",
    "version": 3
   },
   "file_extension": ".py",
   "mimetype": "text/x-python",
   "name": "python",
   "nbconvert_exporter": "python",
   "pygments_lexer": "ipython3",
   "version": "3.10.8"
  },
  "orig_nbformat": 4,
  "vscode": {
   "interpreter": {
    "hash": "f43068f9792b3323a1799d7c5b5848a3202f2984f1cbe4097d4e4d26b206ec0d"
   }
  }
 },
 "nbformat": 4,
 "nbformat_minor": 2
}
